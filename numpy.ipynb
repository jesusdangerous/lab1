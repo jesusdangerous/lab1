{
  "cells": [
    {
      "cell_type": "markdown",
      "metadata": {
        "id": "vC84e9kzyxPy"
      },
      "source": [
        "<h1>Импорт библиотек"
      ]
    },
    {
      "cell_type": "code",
      "execution_count": 122,
      "metadata": {
        "id": "cgKeNegmQG5S"
      },
      "outputs": [],
      "source": [
        "import numpy as np\n",
        "import matplotlib.pyplot as plt"
      ]
    },
    {
      "cell_type": "markdown",
      "metadata": {
        "id": "qFM9uVU2x4Ls"
      },
      "source": [
        "<h1>Задача 1. Дан набор из $p$ матриц размерностью $(n, n)$ и $p$ векторов размерностью $(n, 1)$, найти сумму произведений матриц на векторы. Написать тесты для кода"
      ]
    },
    {
      "cell_type": "code",
      "execution_count": 137,
      "metadata": {
        "id": "IAbUvEiYyWFF"
      },
      "outputs": [],
      "source": [
        "import numpy as np\n",
        "\n",
        "def sum_prod(X, V):\n",
        "    '''\n",
        "    X - матрицы (n, n)\n",
        "    V - векторы (n,)\n",
        "    Гарантируется, что len(X) == len(V)\n",
        "    '''\n",
        "    res = np.zeros_like(V[0])\n",
        "    for matrix, vector in zip(X, V):\n",
        "        res += np.dot(matrix, vector)\n",
        "    return res"
      ]
    },
    {
      "cell_type": "code",
      "execution_count": null,
      "metadata": {},
      "outputs": [],
      "source": [
        "import ipytest\n",
        "ipytest.autoconfig()\n",
        "\n",
        "def test_1():\n",
        "    matrix = np.array([[5, 1, 3], [1, 1, 1], [1, 2, 1]])\n",
        "    vector = np.array([[1], [2], [3]])\n",
        "    expected = np.array([[16], [6], [8]])\n",
        "    print(sum_prod([matrix], [vector]))\n",
        "    assert np.array_equal(sum_prod([matrix], [vector]), expected)\n",
        "\n",
        "ipytest.run()"
      ]
    },
    {
      "cell_type": "markdown",
      "metadata": {
        "id": "TKwPG4fIy2w4"
      },
      "source": [
        "<h1>Задача 2. Дана матрица M, напишите функцию, которая бинаризует матрицу по некоторому threshold (то есть, все значения большие threshold становятся равными 1, иначе 0). Напишите тесты для кода"
      ]
    },
    {
      "cell_type": "code",
      "execution_count": 125,
      "metadata": {
        "id": "KQDNMgsjRNH7"
      },
      "outputs": [],
      "source": [
        "def binarize(M, threshold=0.5):\n",
        "    matrix = [[1 if element > threshold else 0 for element in row] for row in M]\n",
        "    return np.array(matrix)\n"
      ]
    },
    {
      "cell_type": "code",
      "execution_count": null,
      "metadata": {},
      "outputs": [],
      "source": [
        "import ipytest\n",
        "ipytest.autoconfig()\n",
        "\n",
        "def test_2():\n",
        "    M = np.array([[5, 2, 7], [1, 8, 3], [6, 9, 0]])\n",
        "    threshold = 5\n",
        "    expected = np.array([[0, 0, 1], [0, 1, 0], [1, 1, 0]])\n",
        "    assert np.array_equal(binarize(M, threshold), expected)\n",
        "\n",
        "ipytest.run()"
      ]
    },
    {
      "cell_type": "markdown",
      "metadata": {
        "id": "IY5L-h-7zWhN"
      },
      "source": [
        "<h1>Задача 3. Напишите функцию, которая возвращает уникальные элементы из каждой строки матрицы. Напишите такую же функцию, но для столбцов. Напишите тесты для кода"
      ]
    },
    {
      "cell_type": "code",
      "execution_count": 127,
      "metadata": {
        "id": "-8dEZhR0SBC-"
      },
      "outputs": [],
      "source": [
        "def unique_rows(mat):\n",
        "    unique = []\n",
        "    for row in mat:\n",
        "        unique.append(list(set(row)))\n",
        "    return unique\n",
        "\n",
        "def unique_columns(mat):\n",
        "    transposed_matrix = [[mat[j][i] for j in range(len(mat))] for i in range(len(mat[0]))]\n",
        "    unique = []\n",
        "    for column in transposed_matrix:\n",
        "        unique.append(list(set(column)))\n",
        "    return unique"
      ]
    },
    {
      "cell_type": "code",
      "execution_count": null,
      "metadata": {},
      "outputs": [],
      "source": [
        "import ipytest\n",
        "ipytest.autoconfig()\n",
        "\n",
        "def test_3():\n",
        "    M = np.array([[5, 2, 7], [1, 8, 3], [6, 9, 0]])\n",
        "    expected = [[2, 5, 7], [8, 1, 3], [0, 9, 6]]\n",
        "    assert unique_rows(M) == expected\n",
        "\n",
        "def test_4():\n",
        "    M = np.array([[5, 5, 5], [1, 3, 3], [6, 9, 0]])\n",
        "    expected = ([[5], [1, 3], [0, 9, 6]])\n",
        "    assert unique_rows(M) == expected\n",
        "\n",
        "ipytest.run()"
      ]
    },
    {
      "cell_type": "markdown",
      "metadata": {
        "id": "roYAlo4Jz-lH"
      },
      "source": [
        "<h1>Задача 4. Напишите функцию, которая заполняет матрицу с размерами $(m, n)$ случайными числами, распределенными по нормальному закону. Затем считает мат. ожидание и дисперсию для каждого из столбцов и строк, а также строит для каждой строки и столбца гистограмму значений (использовать функцию hist из модуля matplotlib.plot)"
      ]
    },
    {
      "cell_type": "code",
      "execution_count": null,
      "metadata": {
        "id": "nZK_71hMSQzv"
      },
      "outputs": [],
      "source": [
        "import numpy as np\n",
        "import matplotlib.pyplot as plt\n",
        "\n",
        "def find_matrix_values(m: int, n: int):\n",
        "    matrix = np.random.normal(size=(n, m))\n",
        "\n",
        "    row_means = np.mean(matrix, axis=1)\n",
        "    column_means = np.mean(matrix, axis=0)\n",
        "    row_vars = np.var(matrix, axis=1)\n",
        "    column_vars = np.var(matrix, axis=0)\n",
        "\n",
        "    for i in range(n):\n",
        "        plt.hist(matrix[i], label=f\"Row {i}\")\n",
        "    plt.title(\"Row hist\")\n",
        "    plt.legend()\n",
        "    plt.show()\n",
        "\n",
        "    for j in range(m):\n",
        "        plt.hist(matrix[:, j], label=f'Column {j}')\n",
        "    plt.title('Column hist')\n",
        "    plt.legend()\n",
        "    plt.show()\n",
        "\n",
        "    return row_means, row_vars, column_means, column_vars\n",
        "\n",
        "m, n = 4, 2\n",
        "row_means, row_vars, col_means, col_vars = find_matrix_values(m, n)\n"
      ]
    },
    {
      "cell_type": "markdown",
      "metadata": {
        "id": "BDyATNdM0dJ2"
      },
      "source": [
        "<h1>Задача 5. Напишите функцию, которая заполняет матрицу $(m, n)$ в шахматном порядке заданными числами $a$ и $b$. Напишите тесты для кода"
      ]
    },
    {
      "cell_type": "code",
      "execution_count": 130,
      "metadata": {
        "id": "RWNJYWQGecS6"
      },
      "outputs": [],
      "source": [
        "def chess(m, n, a, b):\n",
        "    matrix = [[0] * n for i in range(m)]\n",
        "    for i in range(m):\n",
        "        for j in range(n):\n",
        "            if (i + j) % 2 == 0:\n",
        "                matrix[i][j] = a\n",
        "            else:\n",
        "                matrix[i][j] = b\n",
        "    return matrix"
      ]
    },
    {
      "cell_type": "code",
      "execution_count": null,
      "metadata": {},
      "outputs": [],
      "source": [
        "import ipytest\n",
        "ipytest.autoconfig()\n",
        "\n",
        "def test_5():\n",
        "    expected = ([[2, 0], [0, 2]])\n",
        "    assert chess(2, 2, 2, 0) == expected\n",
        "\n",
        "def test_6():\n",
        "    expected = ([[1, 2, 1], [2, 1, 2], [1, 2, 1]])\n",
        "    assert chess(3, 3, 1, 2) == expected\n",
        "\n",
        "def test_7():\n",
        "    expected = ([[1, 2, 1, 2], [2, 1, 2, 1], [1, 2, 1, 2], [2, 1, 2, 1]])\n",
        "    assert chess(4, 4, 1, 2) == expected\n",
        "\n",
        "ipytest.run()"
      ]
    },
    {
      "cell_type": "markdown",
      "metadata": {
        "id": "-ymXLtTN0vB6"
      },
      "source": [
        "<h1>Задача 6. Напишите функцию, которая отрисовывает прямоугольник с заданными размерами (a, b) на изображении размера (m, n), цвет фона задайте в схеме RGB, как и цвет прямоугольника. Цвета также должны быть параметрами функции. Напишите аналогичную функцию но для овала с полуосями a и b. Напишите тесты для кода.\n",
        "Примечание: уравнение эллипса (границы овала) можно записать как:\n",
        "<h1>$\\frac{(x-x_0)^2}{a^2}+\\frac{(y-y_0)^2}{b^2}=1$"
      ]
    },
    {
      "cell_type": "code",
      "execution_count": 132,
      "metadata": {
        "id": "sNfl1t_kfOF4"
      },
      "outputs": [],
      "source": [
        "import numpy as np\n",
        "import matplotlib.pyplot as plt\n",
        "\n",
        "def draw_rectangle(a, b, m, n, rectangle_color, background_color):\n",
        "    image = np.ones((m, n, 3)) * np.array(background_color)\n",
        "    \n",
        "    image[:b, :a] = np.array(rectangle_color)\n",
        "    \n",
        "    plt.imshow(image)\n",
        "    plt.show()\n",
        "    return image\n",
        "\n",
        "def draw_ellipse(a, b, m, n, ellipse_color, background_color):\n",
        "    image = np.ones((m, n, 3)) * np.array(background_color)\n",
        "    \n",
        "    y, x = np.ogrid[:m, :n]\n",
        "    x0, y0 = n // 2, m // 2\n",
        "    ellipse = ((x - x0) ** 2) / a ** 2 + ((y - y0) ** 2) / b ** 2 <= 1\n",
        "    image[ellipse] = np.array(ellipse_color)\n",
        "\n",
        "    plt.imshow(image)\n",
        "    plt.show()\n",
        "    return image"
      ]
    },
    {
      "cell_type": "code",
      "execution_count": null,
      "metadata": {},
      "outputs": [],
      "source": [
        "import ipytest\n",
        "import numpy as np\n",
        "import matplotlib.pyplot as plt\n",
        "\n",
        "ipytest.autoconfig()\n",
        "\n",
        "def test_8():\n",
        "    a, b = 50, 50\n",
        "    m, n = 50, 100\n",
        "    rectangle_color = (1, 1, 0)\n",
        "    background_color = (1, 1, 1)\n",
        "\n",
        "    expected_image = np.ones((m, n, 3)) * np.array(background_color)\n",
        "    expected_image[:b, :a] = np.array(rectangle_color)\n",
        "\n",
        "    result_image = draw_rectangle(a, b, m, n, rectangle_color, background_color)\n",
        "    \n",
        "    np.testing.assert_array_equal(result_image, expected_image)\n",
        "\n",
        "def test_9():\n",
        "    a, b = 40, 40\n",
        "    m, n = 100, 100\n",
        "    ellipse_color = (1, 1, 0)\n",
        "    background_color = (1, 1, 1)\n",
        "\n",
        "    expected_image = np.ones((m, n, 3)) * np.array(background_color)\n",
        "    y, x = np.ogrid[:m, :n]\n",
        "    x0, y0 = n // 2, m // 2\n",
        "    ellipse = ((x - x0) ** 2) / a ** 2 + ((y - y0) ** 2) / b ** 2 <= 1\n",
        "    expected_image[ellipse] = np.array(ellipse_color)\n",
        "\n",
        "    result_image = draw_ellipse(a, b, m, n, ellipse_color, background_color)\n",
        "    \n",
        "    np.testing.assert_array_equal(result_image, expected_image)\n",
        "\n",
        "ipytest.run()\n"
      ]
    },
    {
      "cell_type": "markdown",
      "metadata": {
        "id": "S82c38oz244H"
      },
      "source": [
        "<h1>Задача 7. Дан некий временной ряд. Для данного ряда нужно найти его: математическое ожидание, дисперсию, СКО, найти все локальные максимумы и минимумы (локальный максимум - это точка, которая больше своих соседних точек, а локальный минимум - это точка, которая меньше своих соседей), а также вычислить для данного ряда другой ряд, получаемый методом скользящего среднего с размером окна $p$.\n",
        "<h1>Примечание: метод скользящего среднего подразумевает нахождение среднего из подмножетсва ряда размером $p$"
      ]
    },
    {
      "cell_type": "code",
      "execution_count": 134,
      "metadata": {
        "id": "Zb9mIVge5MMt"
      },
      "outputs": [],
      "source": [
        "import numpy as np\n",
        "\n",
        "def find_mean(series):\n",
        "    return np.mean(series)\n",
        "\n",
        "def find_variance(series):\n",
        "    return np.var(series)\n",
        "\n",
        "def find_standard_deviation(series):\n",
        "    return np.std(series)\n",
        "\n",
        "def find_local_extremum_points(series):\n",
        "    local_maximum = []\n",
        "    local_minimum = []\n",
        "    \n",
        "    for i in range(1, len(series) - 1):\n",
        "        if series[i-1] < series[i] > series[i+1]:\n",
        "            local_maximum.append(series[i])\n",
        "        elif series[i-1] > series[i] < series[i+1]:\n",
        "            local_minimum.append(series[i])\n",
        "\n",
        "def find_rolling_mean(series, window_size):\n",
        "    return np.convolve(series, np.ones(window_size) / window_size, mode='valid')\n"
      ]
    },
    {
      "cell_type": "markdown",
      "metadata": {
        "id": "jPkylmOX5O9n"
      },
      "source": [
        "<h1> Задача 8. Дан некоторый вектор с целочисленными метками классов, напишите функцию, которая выполняет one-hot-encoding для данного вектора\n",
        "<h1> One-hot-encoding - представление, в котором на месте метки некоторого класса стоит 1, в остальных позициях стоит 0. Например для вектора [0, 2, 3, 0] one-hot-encoding выглядит как: [[1, 0, 0, 0], [0, 0, 1, 0], [0, 0, 0, 1], [1, 0, 0, 0]]"
      ]
    },
    {
      "cell_type": "code",
      "execution_count": 135,
      "metadata": {
        "id": "Y-jlnZvw56lD"
      },
      "outputs": [],
      "source": [
        "def one_hot_encode(categories):\n",
        "    unique_categories = np.unique(categories)\n",
        "    one_hot_encoded = np.zeros((len(categories), len(unique_categories)))\n",
        "    for i, category in enumerate(categories):\n",
        "        one_hot_encoded[i, np.where(unique_categories == category)] = 1\n",
        "    return one_hot_encoded"
      ]
    },
    {
      "cell_type": "code",
      "execution_count": null,
      "metadata": {},
      "outputs": [],
      "source": [
        "import ipytest\n",
        "ipytest.autoconfig()\n",
        "\n",
        "def test_10():\n",
        "    result = one_hot_encode([0, 2, 3, 0])\n",
        "    expected = np.array([[1, 0, 0], [0, 1, 0], [0, 0, 1], [1, 0, 0]])\n",
        "    assert np.array_equal(result, expected)\n",
        "\n",
        "ipytest.run()"
      ]
    }
  ],
  "metadata": {
    "colab": {
      "provenance": []
    },
    "kernelspec": {
      "display_name": "numpy",
      "language": "python",
      "name": "python3"
    },
    "language_info": {
      "codemirror_mode": {
        "name": "ipython",
        "version": 3
      },
      "file_extension": ".py",
      "mimetype": "text/x-python",
      "name": "python",
      "nbconvert_exporter": "python",
      "pygments_lexer": "ipython3",
      "version": "3.11.10"
    }
  },
  "nbformat": 4,
  "nbformat_minor": 0
}
